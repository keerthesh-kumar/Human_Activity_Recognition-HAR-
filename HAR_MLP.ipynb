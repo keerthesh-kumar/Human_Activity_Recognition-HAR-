{
  "nbformat": 4,
  "nbformat_minor": 0,
  "metadata": {
    "kernelspec": {
      "display_name": "Python 3",
      "language": "python",
      "name": "python3"
    },
    "language_info": {
      "codemirror_mode": {
        "name": "ipython",
        "version": 3
      },
      "file_extension": ".py",
      "mimetype": "text/x-python",
      "name": "python",
      "nbconvert_exporter": "python",
      "pygments_lexer": "ipython3",
      "version": "3.7.0"
    },
    "colab": {
      "name": "HAR_MLP.ipynb",
      "provenance": [],
      "collapsed_sections": []
    }
  },
  "cells": [
    {
      "cell_type": "code",
      "metadata": {
        "id": "KdLB3womDqAN",
        "colab_type": "code",
        "colab": {}
      },
      "source": [
        "import numpy as np\n",
        "import pandas as pd"
      ],
      "execution_count": 0,
      "outputs": []
    },
    {
      "cell_type": "code",
      "metadata": {
        "id": "WHy79q70D3tB",
        "colab_type": "code",
        "outputId": "e381ee3c-7f68-4001-bb8d-bceda9ea1ba1",
        "colab": {
          "base_uri": "https://localhost:8080/",
          "height": 122
        }
      },
      "source": [
        "from google.colab import drive\n",
        "drive.mount('/content/gdrive')"
      ],
      "execution_count": 2,
      "outputs": [
        {
          "output_type": "stream",
          "text": [
            "Go to this URL in a browser: https://accounts.google.com/o/oauth2/auth?client_id=947318989803-6bn6qk8qdgf4n4g3pfee6491hc0brc4i.apps.googleusercontent.com&redirect_uri=urn%3aietf%3awg%3aoauth%3a2.0%3aoob&response_type=code&scope=email%20https%3a%2f%2fwww.googleapis.com%2fauth%2fdocs.test%20https%3a%2f%2fwww.googleapis.com%2fauth%2fdrive%20https%3a%2f%2fwww.googleapis.com%2fauth%2fdrive.photos.readonly%20https%3a%2f%2fwww.googleapis.com%2fauth%2fpeopleapi.readonly\n",
            "\n",
            "Enter your authorization code:\n",
            "··········\n",
            "Mounted at /content/gdrive\n"
          ],
          "name": "stdout"
        }
      ]
    },
    {
      "cell_type": "code",
      "metadata": {
        "id": "djiE1q9LECT1",
        "colab_type": "code",
        "colab": {}
      },
      "source": [
        ""
      ],
      "execution_count": 0,
      "outputs": []
    },
    {
      "cell_type": "markdown",
      "metadata": {
        "id": "1awfc3y1DqAU",
        "colab_type": "text"
      },
      "source": [
        "## Obtain the train and test data"
      ]
    },
    {
      "cell_type": "code",
      "metadata": {
        "scrolled": false,
        "id": "bGz99_Y4DqAV",
        "colab_type": "code",
        "outputId": "087a09ad-0ce2-4ad9-dc74-40083ad6a759",
        "colab": {
          "base_uri": "https://localhost:8080/",
          "height": 34
        }
      },
      "source": [
        "train = pd.read_csv('/content/gdrive/My Drive/Journal Paper/Human Activity Detection/UCI HAR Dataset/csv_files/train.csv')\n",
        "test = pd.read_csv('/content/gdrive/My Drive/Journal Paper/Human Activity Detection/UCI HAR Dataset/csv_files/test.csv')\n",
        "print(train.shape, test.shape)\n",
        "\n"
      ],
      "execution_count": 3,
      "outputs": [
        {
          "output_type": "stream",
          "text": [
            "(7352, 564) (2947, 564)\n"
          ],
          "name": "stdout"
        }
      ]
    },
    {
      "cell_type": "code",
      "metadata": {
        "scrolled": true,
        "id": "J18YNHutDqAa",
        "colab_type": "code",
        "outputId": "5efb3875-6f24-4a99-b02b-3c8ac29db3a8",
        "colab": {
          "base_uri": "https://localhost:8080/",
          "height": 191
        }
      },
      "source": [
        "train.head(3)"
      ],
      "execution_count": 4,
      "outputs": [
        {
          "output_type": "execute_result",
          "data": {
            "text/html": [
              "<div>\n",
              "<style scoped>\n",
              "    .dataframe tbody tr th:only-of-type {\n",
              "        vertical-align: middle;\n",
              "    }\n",
              "\n",
              "    .dataframe tbody tr th {\n",
              "        vertical-align: top;\n",
              "    }\n",
              "\n",
              "    .dataframe thead th {\n",
              "        text-align: right;\n",
              "    }\n",
              "</style>\n",
              "<table border=\"1\" class=\"dataframe\">\n",
              "  <thead>\n",
              "    <tr style=\"text-align: right;\">\n",
              "      <th></th>\n",
              "      <th>1tBodyAccmeanX</th>\n",
              "      <th>2tBodyAccmeanY</th>\n",
              "      <th>3tBodyAccmeanZ</th>\n",
              "      <th>4tBodyAccstdX</th>\n",
              "      <th>5tBodyAccstdY</th>\n",
              "      <th>6tBodyAccstdZ</th>\n",
              "      <th>7tBodyAccmadX</th>\n",
              "      <th>8tBodyAccmadY</th>\n",
              "      <th>9tBodyAccmadZ</th>\n",
              "      <th>10tBodyAccmaxX</th>\n",
              "      <th>11tBodyAccmaxY</th>\n",
              "      <th>12tBodyAccmaxZ</th>\n",
              "      <th>13tBodyAccminX</th>\n",
              "      <th>14tBodyAccminY</th>\n",
              "      <th>15tBodyAccminZ</th>\n",
              "      <th>16tBodyAccsma</th>\n",
              "      <th>17tBodyAccenergyX</th>\n",
              "      <th>18tBodyAccenergyY</th>\n",
              "      <th>19tBodyAccenergyZ</th>\n",
              "      <th>20tBodyAcciqrX</th>\n",
              "      <th>21tBodyAcciqrY</th>\n",
              "      <th>22tBodyAcciqrZ</th>\n",
              "      <th>23tBodyAccentropyX</th>\n",
              "      <th>24tBodyAccentropyY</th>\n",
              "      <th>25tBodyAccentropyZ</th>\n",
              "      <th>26tBodyAccarCoeffX1</th>\n",
              "      <th>27tBodyAccarCoeffX2</th>\n",
              "      <th>28tBodyAccarCoeffX3</th>\n",
              "      <th>29tBodyAccarCoeffX4</th>\n",
              "      <th>30tBodyAccarCoeffY1</th>\n",
              "      <th>31tBodyAccarCoeffY2</th>\n",
              "      <th>32tBodyAccarCoeffY3</th>\n",
              "      <th>33tBodyAccarCoeffY4</th>\n",
              "      <th>34tBodyAccarCoeffZ1</th>\n",
              "      <th>35tBodyAccarCoeffZ2</th>\n",
              "      <th>36tBodyAccarCoeffZ3</th>\n",
              "      <th>37tBodyAccarCoeffZ4</th>\n",
              "      <th>38tBodyAcccorrelationXY</th>\n",
              "      <th>39tBodyAcccorrelationXZ</th>\n",
              "      <th>40tBodyAcccorrelationYZ</th>\n",
              "      <th>...</th>\n",
              "      <th>525fBodyBodyAccJerkMagmaxInds</th>\n",
              "      <th>526fBodyBodyAccJerkMagmeanFreq</th>\n",
              "      <th>527fBodyBodyAccJerkMagskewness</th>\n",
              "      <th>528fBodyBodyAccJerkMagkurtosis</th>\n",
              "      <th>529fBodyBodyGyroMagmean</th>\n",
              "      <th>530fBodyBodyGyroMagstd</th>\n",
              "      <th>531fBodyBodyGyroMagmad</th>\n",
              "      <th>532fBodyBodyGyroMagmax</th>\n",
              "      <th>533fBodyBodyGyroMagmin</th>\n",
              "      <th>534fBodyBodyGyroMagsma</th>\n",
              "      <th>535fBodyBodyGyroMagenergy</th>\n",
              "      <th>536fBodyBodyGyroMagiqr</th>\n",
              "      <th>537fBodyBodyGyroMagentropy</th>\n",
              "      <th>538fBodyBodyGyroMagmaxInds</th>\n",
              "      <th>539fBodyBodyGyroMagmeanFreq</th>\n",
              "      <th>540fBodyBodyGyroMagskewness</th>\n",
              "      <th>541fBodyBodyGyroMagkurtosis</th>\n",
              "      <th>542fBodyBodyGyroJerkMagmean</th>\n",
              "      <th>543fBodyBodyGyroJerkMagstd</th>\n",
              "      <th>544fBodyBodyGyroJerkMagmad</th>\n",
              "      <th>545fBodyBodyGyroJerkMagmax</th>\n",
              "      <th>546fBodyBodyGyroJerkMagmin</th>\n",
              "      <th>547fBodyBodyGyroJerkMagsma</th>\n",
              "      <th>548fBodyBodyGyroJerkMagenergy</th>\n",
              "      <th>549fBodyBodyGyroJerkMagiqr</th>\n",
              "      <th>550fBodyBodyGyroJerkMagentropy</th>\n",
              "      <th>551fBodyBodyGyroJerkMagmaxInds</th>\n",
              "      <th>552fBodyBodyGyroJerkMagmeanFreq</th>\n",
              "      <th>553fBodyBodyGyroJerkMagskewness</th>\n",
              "      <th>554fBodyBodyGyroJerkMagkurtosis</th>\n",
              "      <th>555angletBodyAccMeangravity</th>\n",
              "      <th>556angletBodyAccJerkMeangravityMean</th>\n",
              "      <th>557angletBodyGyroMeangravityMean</th>\n",
              "      <th>558angletBodyGyroJerkMeangravityMean</th>\n",
              "      <th>559angleXgravityMean</th>\n",
              "      <th>560angleYgravityMean</th>\n",
              "      <th>561angleZgravityMean</th>\n",
              "      <th>subject</th>\n",
              "      <th>Activity</th>\n",
              "      <th>ActivityName</th>\n",
              "    </tr>\n",
              "  </thead>\n",
              "  <tbody>\n",
              "    <tr>\n",
              "      <th>0</th>\n",
              "      <td>0.288585</td>\n",
              "      <td>-0.020294</td>\n",
              "      <td>-0.132905</td>\n",
              "      <td>-0.995279</td>\n",
              "      <td>-0.983111</td>\n",
              "      <td>-0.913526</td>\n",
              "      <td>-0.995112</td>\n",
              "      <td>-0.983185</td>\n",
              "      <td>-0.923527</td>\n",
              "      <td>-0.934724</td>\n",
              "      <td>-0.567378</td>\n",
              "      <td>-0.744413</td>\n",
              "      <td>0.852947</td>\n",
              "      <td>0.685845</td>\n",
              "      <td>0.814263</td>\n",
              "      <td>-0.965523</td>\n",
              "      <td>-0.999945</td>\n",
              "      <td>-0.999863</td>\n",
              "      <td>-0.994612</td>\n",
              "      <td>-0.994231</td>\n",
              "      <td>-0.987614</td>\n",
              "      <td>-0.943220</td>\n",
              "      <td>-0.407747</td>\n",
              "      <td>-0.679338</td>\n",
              "      <td>-0.602122</td>\n",
              "      <td>0.929294</td>\n",
              "      <td>-0.853011</td>\n",
              "      <td>0.359910</td>\n",
              "      <td>-0.058526</td>\n",
              "      <td>0.256892</td>\n",
              "      <td>-0.224848</td>\n",
              "      <td>0.264106</td>\n",
              "      <td>-0.095246</td>\n",
              "      <td>0.278851</td>\n",
              "      <td>-0.465085</td>\n",
              "      <td>0.491936</td>\n",
              "      <td>-0.190884</td>\n",
              "      <td>0.376314</td>\n",
              "      <td>0.435129</td>\n",
              "      <td>0.660790</td>\n",
              "      <td>...</td>\n",
              "      <td>-0.936508</td>\n",
              "      <td>0.346989</td>\n",
              "      <td>-0.516080</td>\n",
              "      <td>-0.802760</td>\n",
              "      <td>-0.980135</td>\n",
              "      <td>-0.961309</td>\n",
              "      <td>-0.973653</td>\n",
              "      <td>-0.952264</td>\n",
              "      <td>-0.989498</td>\n",
              "      <td>-0.980135</td>\n",
              "      <td>-0.999240</td>\n",
              "      <td>-0.992656</td>\n",
              "      <td>-0.701291</td>\n",
              "      <td>-1.000000</td>\n",
              "      <td>-0.128989</td>\n",
              "      <td>0.586156</td>\n",
              "      <td>0.374605</td>\n",
              "      <td>-0.991990</td>\n",
              "      <td>-0.990697</td>\n",
              "      <td>-0.989941</td>\n",
              "      <td>-0.992448</td>\n",
              "      <td>-0.991048</td>\n",
              "      <td>-0.991990</td>\n",
              "      <td>-0.999937</td>\n",
              "      <td>-0.990458</td>\n",
              "      <td>-0.871306</td>\n",
              "      <td>-1.000000</td>\n",
              "      <td>-0.074323</td>\n",
              "      <td>-0.298676</td>\n",
              "      <td>-0.710304</td>\n",
              "      <td>-0.112754</td>\n",
              "      <td>0.030400</td>\n",
              "      <td>-0.464761</td>\n",
              "      <td>-0.018446</td>\n",
              "      <td>-0.841247</td>\n",
              "      <td>0.179941</td>\n",
              "      <td>-0.058627</td>\n",
              "      <td>1</td>\n",
              "      <td>5</td>\n",
              "      <td>STANDING</td>\n",
              "    </tr>\n",
              "    <tr>\n",
              "      <th>1</th>\n",
              "      <td>0.278419</td>\n",
              "      <td>-0.016411</td>\n",
              "      <td>-0.123520</td>\n",
              "      <td>-0.998245</td>\n",
              "      <td>-0.975300</td>\n",
              "      <td>-0.960322</td>\n",
              "      <td>-0.998807</td>\n",
              "      <td>-0.974914</td>\n",
              "      <td>-0.957686</td>\n",
              "      <td>-0.943068</td>\n",
              "      <td>-0.557851</td>\n",
              "      <td>-0.818409</td>\n",
              "      <td>0.849308</td>\n",
              "      <td>0.685845</td>\n",
              "      <td>0.822637</td>\n",
              "      <td>-0.981930</td>\n",
              "      <td>-0.999991</td>\n",
              "      <td>-0.999788</td>\n",
              "      <td>-0.998405</td>\n",
              "      <td>-0.999150</td>\n",
              "      <td>-0.977866</td>\n",
              "      <td>-0.948225</td>\n",
              "      <td>-0.714892</td>\n",
              "      <td>-0.500930</td>\n",
              "      <td>-0.570979</td>\n",
              "      <td>0.611627</td>\n",
              "      <td>-0.329549</td>\n",
              "      <td>0.284213</td>\n",
              "      <td>0.284595</td>\n",
              "      <td>0.115705</td>\n",
              "      <td>-0.090963</td>\n",
              "      <td>0.294310</td>\n",
              "      <td>-0.281211</td>\n",
              "      <td>0.085988</td>\n",
              "      <td>-0.022153</td>\n",
              "      <td>-0.016657</td>\n",
              "      <td>-0.220643</td>\n",
              "      <td>-0.013429</td>\n",
              "      <td>-0.072692</td>\n",
              "      <td>0.579382</td>\n",
              "      <td>...</td>\n",
              "      <td>-0.841270</td>\n",
              "      <td>0.532061</td>\n",
              "      <td>-0.624871</td>\n",
              "      <td>-0.900160</td>\n",
              "      <td>-0.988296</td>\n",
              "      <td>-0.983322</td>\n",
              "      <td>-0.982659</td>\n",
              "      <td>-0.986321</td>\n",
              "      <td>-0.991829</td>\n",
              "      <td>-0.988296</td>\n",
              "      <td>-0.999811</td>\n",
              "      <td>-0.993979</td>\n",
              "      <td>-0.720683</td>\n",
              "      <td>-0.948718</td>\n",
              "      <td>-0.271958</td>\n",
              "      <td>-0.336310</td>\n",
              "      <td>-0.720015</td>\n",
              "      <td>-0.995854</td>\n",
              "      <td>-0.996399</td>\n",
              "      <td>-0.995442</td>\n",
              "      <td>-0.996866</td>\n",
              "      <td>-0.994440</td>\n",
              "      <td>-0.995854</td>\n",
              "      <td>-0.999981</td>\n",
              "      <td>-0.994544</td>\n",
              "      <td>-1.000000</td>\n",
              "      <td>-1.000000</td>\n",
              "      <td>0.158075</td>\n",
              "      <td>-0.595051</td>\n",
              "      <td>-0.861499</td>\n",
              "      <td>0.053477</td>\n",
              "      <td>-0.007435</td>\n",
              "      <td>-0.732626</td>\n",
              "      <td>0.703511</td>\n",
              "      <td>-0.844788</td>\n",
              "      <td>0.180289</td>\n",
              "      <td>-0.054317</td>\n",
              "      <td>1</td>\n",
              "      <td>5</td>\n",
              "      <td>STANDING</td>\n",
              "    </tr>\n",
              "    <tr>\n",
              "      <th>2</th>\n",
              "      <td>0.279653</td>\n",
              "      <td>-0.019467</td>\n",
              "      <td>-0.113462</td>\n",
              "      <td>-0.995380</td>\n",
              "      <td>-0.967187</td>\n",
              "      <td>-0.978944</td>\n",
              "      <td>-0.996520</td>\n",
              "      <td>-0.963668</td>\n",
              "      <td>-0.977469</td>\n",
              "      <td>-0.938692</td>\n",
              "      <td>-0.557851</td>\n",
              "      <td>-0.818409</td>\n",
              "      <td>0.843609</td>\n",
              "      <td>0.682401</td>\n",
              "      <td>0.839344</td>\n",
              "      <td>-0.983478</td>\n",
              "      <td>-0.999969</td>\n",
              "      <td>-0.999660</td>\n",
              "      <td>-0.999470</td>\n",
              "      <td>-0.997130</td>\n",
              "      <td>-0.964810</td>\n",
              "      <td>-0.974675</td>\n",
              "      <td>-0.592235</td>\n",
              "      <td>-0.485821</td>\n",
              "      <td>-0.570979</td>\n",
              "      <td>0.273025</td>\n",
              "      <td>-0.086309</td>\n",
              "      <td>0.337202</td>\n",
              "      <td>-0.164739</td>\n",
              "      <td>0.017150</td>\n",
              "      <td>-0.074507</td>\n",
              "      <td>0.342256</td>\n",
              "      <td>-0.332564</td>\n",
              "      <td>0.239281</td>\n",
              "      <td>-0.136204</td>\n",
              "      <td>0.173863</td>\n",
              "      <td>-0.299493</td>\n",
              "      <td>-0.124698</td>\n",
              "      <td>-0.181105</td>\n",
              "      <td>0.608900</td>\n",
              "      <td>...</td>\n",
              "      <td>-0.904762</td>\n",
              "      <td>0.660795</td>\n",
              "      <td>-0.724697</td>\n",
              "      <td>-0.928539</td>\n",
              "      <td>-0.989255</td>\n",
              "      <td>-0.986028</td>\n",
              "      <td>-0.984274</td>\n",
              "      <td>-0.990979</td>\n",
              "      <td>-0.995703</td>\n",
              "      <td>-0.989255</td>\n",
              "      <td>-0.999854</td>\n",
              "      <td>-0.993238</td>\n",
              "      <td>-0.736521</td>\n",
              "      <td>-0.794872</td>\n",
              "      <td>-0.212728</td>\n",
              "      <td>-0.535352</td>\n",
              "      <td>-0.871914</td>\n",
              "      <td>-0.995031</td>\n",
              "      <td>-0.995127</td>\n",
              "      <td>-0.994640</td>\n",
              "      <td>-0.996060</td>\n",
              "      <td>-0.995866</td>\n",
              "      <td>-0.995031</td>\n",
              "      <td>-0.999973</td>\n",
              "      <td>-0.993755</td>\n",
              "      <td>-1.000000</td>\n",
              "      <td>-0.555556</td>\n",
              "      <td>0.414503</td>\n",
              "      <td>-0.390748</td>\n",
              "      <td>-0.760104</td>\n",
              "      <td>-0.118559</td>\n",
              "      <td>0.177899</td>\n",
              "      <td>0.100699</td>\n",
              "      <td>0.808529</td>\n",
              "      <td>-0.848933</td>\n",
              "      <td>0.180637</td>\n",
              "      <td>-0.049118</td>\n",
              "      <td>1</td>\n",
              "      <td>5</td>\n",
              "      <td>STANDING</td>\n",
              "    </tr>\n",
              "  </tbody>\n",
              "</table>\n",
              "<p>3 rows × 564 columns</p>\n",
              "</div>"
            ],
            "text/plain": [
              "   1tBodyAccmeanX  2tBodyAccmeanY  ...  Activity  ActivityName\n",
              "0        0.288585       -0.020294  ...         5      STANDING\n",
              "1        0.278419       -0.016411  ...         5      STANDING\n",
              "2        0.279653       -0.019467  ...         5      STANDING\n",
              "\n",
              "[3 rows x 564 columns]"
            ]
          },
          "metadata": {
            "tags": []
          },
          "execution_count": 4
        }
      ]
    },
    {
      "cell_type": "code",
      "metadata": {
        "id": "mST4IRNbDqAe",
        "colab_type": "code",
        "outputId": "3308f006-f0f9-426d-bb1a-0f8d8e215da3",
        "colab": {
          "base_uri": "https://localhost:8080/",
          "height": 221
        }
      },
      "source": [
        "# get X_train and y_train from csv files\n",
        "X_train = train.drop(['subject', 'Activity', 'ActivityName'], axis=1)\n",
        "y_train = train.Activity\n",
        "print(y_train)"
      ],
      "execution_count": 5,
      "outputs": [
        {
          "output_type": "stream",
          "text": [
            "0       5\n",
            "1       5\n",
            "2       5\n",
            "3       5\n",
            "4       5\n",
            "       ..\n",
            "7347    2\n",
            "7348    2\n",
            "7349    2\n",
            "7350    2\n",
            "7351    2\n",
            "Name: Activity, Length: 7352, dtype: int64\n"
          ],
          "name": "stdout"
        }
      ]
    },
    {
      "cell_type": "code",
      "metadata": {
        "id": "Tq7YfCmODqAh",
        "colab_type": "code",
        "outputId": "171d284d-4120-440c-cb26-6a192f87a7d4",
        "colab": {
          "base_uri": "https://localhost:8080/",
          "height": 221
        }
      },
      "source": [
        "# get X_test and y_test from test csv file\n",
        "X_test = test.drop(['subject', 'Activity', 'ActivityName'], axis=1)\n",
        "y_test = test.Activity\n",
        "print(y_test)"
      ],
      "execution_count": 6,
      "outputs": [
        {
          "output_type": "stream",
          "text": [
            "0       5\n",
            "1       5\n",
            "2       5\n",
            "3       5\n",
            "4       5\n",
            "       ..\n",
            "2942    2\n",
            "2943    2\n",
            "2944    2\n",
            "2945    2\n",
            "2946    2\n",
            "Name: Activity, Length: 2947, dtype: int64\n"
          ],
          "name": "stdout"
        }
      ]
    },
    {
      "cell_type": "code",
      "metadata": {
        "id": "OqOhYfXADqAm",
        "colab_type": "code",
        "outputId": "62aa3fec-6307-447e-d75b-6a6f50ae33df",
        "colab": {
          "base_uri": "https://localhost:8080/",
          "height": 51
        }
      },
      "source": [
        "print('X_train and y_train : ({},{})'.format(X_train.shape, y_train.shape))\n",
        "print('X_test  and y_test  : ({},{})'.format(X_test.shape, y_test.shape))"
      ],
      "execution_count": 7,
      "outputs": [
        {
          "output_type": "stream",
          "text": [
            "X_train and y_train : ((7352, 561),(7352,))\n",
            "X_test  and y_test  : ((2947, 561),(2947,))\n"
          ],
          "name": "stdout"
        }
      ]
    },
    {
      "cell_type": "code",
      "metadata": {
        "id": "oFS6NqGfBfvX",
        "colab_type": "code",
        "colab": {}
      },
      "source": [
        ""
      ],
      "execution_count": 0,
      "outputs": []
    },
    {
      "cell_type": "markdown",
      "metadata": {
        "id": "YT82-TokDqAr",
        "colab_type": "text"
      },
      "source": [
        "# Implementing Simple 2 Layer ANN"
      ]
    },
    {
      "cell_type": "code",
      "metadata": {
        "id": "kDTPM1fJBQnu",
        "colab_type": "code",
        "colab": {
          "base_uri": "https://localhost:8080/",
          "height": 88
        },
        "outputId": "cc6e551c-c4fe-471f-986d-eed19353d9a5"
      },
      "source": [
        "import pandas as pd\n",
        "import numpy as np\n",
        "import matplotlib.pyplot as plt\n",
        "import seaborn as sns\n",
        "from sklearn.model_selection import train_test_split\n",
        "from sklearn.preprocessing import LabelEncoder\n",
        "from keras.models import Sequential\n",
        "from keras.models import Model\n",
        "from keras.layers import LSTM, Activation, Dense, Dropout, Input, Embedding\n",
        "from keras.optimizers import RMSprop\n",
        "from keras.preprocessing.text import Tokenizer\n",
        "from keras.preprocessing import sequence\n",
        "from keras.utils import to_categorical\n",
        "from keras.callbacks import EarlyStopping\n",
        "%matplotlib inline"
      ],
      "execution_count": 8,
      "outputs": [
        {
          "output_type": "stream",
          "text": [
            "/usr/local/lib/python3.6/dist-packages/statsmodels/tools/_testing.py:19: FutureWarning: pandas.util.testing is deprecated. Use the functions in the public API at pandas.testing instead.\n",
            "  import pandas.util.testing as tm\n",
            "Using TensorFlow backend.\n"
          ],
          "name": "stderr"
        }
      ]
    },
    {
      "cell_type": "code",
      "metadata": {
        "id": "n5JNeHnuBXRC",
        "colab_type": "code",
        "colab": {}
      },
      "source": [
        "# Perform one hot encoding on Y  or Dependent Varibles\n",
        "from keras import utils as np_utils\n",
        "y_train_en = np_utils.to_categorical(y_train)\n",
        "y_train_en = y_train_en[:,1:7]"
      ],
      "execution_count": 0,
      "outputs": []
    },
    {
      "cell_type": "code",
      "metadata": {
        "id": "4lU6p8Q9DvUg",
        "colab_type": "code",
        "colab": {}
      },
      "source": [
        "# Perform one hot encoding on Y  or Dependent Varibles\n",
        "y_test_en = np_utils.to_categorical(y_test)\n",
        "y_test_en = y_test_en[:,1:7]"
      ],
      "execution_count": 0,
      "outputs": []
    },
    {
      "cell_type": "code",
      "metadata": {
        "id": "J7PWk_bNG54a",
        "colab_type": "code",
        "outputId": "e09d33f7-8e9f-484a-be72-3355bbfedba3",
        "colab": {
          "base_uri": "https://localhost:8080/",
          "height": 85
        }
      },
      "source": [
        "print(X_train.shape)\n",
        "print(y_train_en.shape)\n",
        "print(X_test.shape)\n",
        "print(y_test_en.shape)"
      ],
      "execution_count": 11,
      "outputs": [
        {
          "output_type": "stream",
          "text": [
            "(7352, 561)\n",
            "(7352, 6)\n",
            "(2947, 561)\n",
            "(2947, 6)\n"
          ],
          "name": "stdout"
        }
      ]
    },
    {
      "cell_type": "code",
      "metadata": {
        "id": "bgGTxjdDojiP",
        "colab_type": "code",
        "colab": {
          "base_uri": "https://localhost:8080/",
          "height": 85
        },
        "outputId": "9ed1f820-0472-4c99-ae13-c1bc4d86e446"
      },
      "source": [
        "# Converting the Pandas dataframe into numpy array\n",
        "X_train_np = X_train.to_numpy()\n",
        "X_test_np = X_test.to_numpy()\n",
        "\n",
        "print(type(X_train_np))\n",
        "print(type(y_train_en))\n",
        "print(type(X_test_np))\n",
        "print(type(y_test_en))"
      ],
      "execution_count": 12,
      "outputs": [
        {
          "output_type": "stream",
          "text": [
            "<class 'numpy.ndarray'>\n",
            "<class 'numpy.ndarray'>\n",
            "<class 'numpy.ndarray'>\n",
            "<class 'numpy.ndarray'>\n"
          ],
          "name": "stdout"
        }
      ]
    },
    {
      "cell_type": "markdown",
      "metadata": {
        "id": "R06LghvegWO8",
        "colab_type": "text"
      },
      "source": [
        "# Keras ANN"
      ]
    },
    {
      "cell_type": "code",
      "metadata": {
        "id": "ijh6HOU3HyG4",
        "colab_type": "code",
        "outputId": "d1440d7e-1ef1-48e6-9b84-9f85d698a622",
        "colab": {
          "base_uri": "https://localhost:8080/",
          "height": 255
        }
      },
      "source": [
        "# Initiliazing the sequential model\n",
        "model = Sequential()\n",
        "# Layer 1\n",
        "model.add(Dense(128, input_dim=561, activation='relu', name='FC0'))\n",
        "model.add(Dropout(0.5))\n",
        "\n",
        "# Layer 2\n",
        "model.add(Dense(6, activation='softmax', name='FC2'))\n",
        "model.summary()"
      ],
      "execution_count": 13,
      "outputs": [
        {
          "output_type": "stream",
          "text": [
            "Model: \"sequential_1\"\n",
            "_________________________________________________________________\n",
            "Layer (type)                 Output Shape              Param #   \n",
            "=================================================================\n",
            "FC0 (Dense)                  (None, 128)               71936     \n",
            "_________________________________________________________________\n",
            "dropout_1 (Dropout)          (None, 128)               0         \n",
            "_________________________________________________________________\n",
            "FC2 (Dense)                  (None, 6)                 774       \n",
            "=================================================================\n",
            "Total params: 72,710\n",
            "Trainable params: 72,710\n",
            "Non-trainable params: 0\n",
            "_________________________________________________________________\n"
          ],
          "name": "stdout"
        }
      ]
    },
    {
      "cell_type": "code",
      "metadata": {
        "id": "mmBIui7H39KW",
        "colab_type": "code",
        "colab": {}
      },
      "source": [
        "model.compile(loss='categorical_crossentropy', optimizer='adam', metrics=['accuracy'])"
      ],
      "execution_count": 0,
      "outputs": []
    },
    {
      "cell_type": "code",
      "metadata": {
        "id": "OSNer-dUMftv",
        "colab_type": "code",
        "colab": {
          "base_uri": "https://localhost:8080/",
          "height": 1000
        },
        "outputId": "fed2a01f-0faf-4ac1-d5e1-4f68df0d765a"
      },
      "source": [
        "# Training the model\n",
        "model.fit(X_train_np,\n",
        "          y_train_en,\n",
        "          batch_size=64,\n",
        "          validation_data=(X_test_np, y_test_en),\n",
        "          epochs=100)"
      ],
      "execution_count": 15,
      "outputs": [
        {
          "output_type": "stream",
          "text": [
            "Train on 7352 samples, validate on 2947 samples\n",
            "Epoch 1/100\n",
            "7352/7352 [==============================] - 1s 94us/step - loss: 0.7204 - accuracy: 0.7082 - val_loss: 0.3449 - val_accuracy: 0.8948\n",
            "Epoch 2/100\n",
            "7352/7352 [==============================] - 0s 54us/step - loss: 0.3288 - accuracy: 0.8760 - val_loss: 0.2416 - val_accuracy: 0.9240\n",
            "Epoch 3/100\n",
            "7352/7352 [==============================] - 0s 57us/step - loss: 0.2462 - accuracy: 0.9083 - val_loss: 0.1974 - val_accuracy: 0.9376\n",
            "Epoch 4/100\n",
            "7352/7352 [==============================] - 0s 58us/step - loss: 0.2050 - accuracy: 0.9251 - val_loss: 0.1694 - val_accuracy: 0.9393\n",
            "Epoch 5/100\n",
            "7352/7352 [==============================] - 0s 57us/step - loss: 0.1753 - accuracy: 0.9350 - val_loss: 0.1718 - val_accuracy: 0.9308\n",
            "Epoch 6/100\n",
            "7352/7352 [==============================] - 0s 56us/step - loss: 0.1531 - accuracy: 0.9434 - val_loss: 0.1658 - val_accuracy: 0.9352\n",
            "Epoch 7/100\n",
            "7352/7352 [==============================] - 0s 57us/step - loss: 0.1375 - accuracy: 0.9487 - val_loss: 0.1459 - val_accuracy: 0.9477\n",
            "Epoch 8/100\n",
            "7352/7352 [==============================] - 0s 57us/step - loss: 0.1300 - accuracy: 0.9523 - val_loss: 0.1624 - val_accuracy: 0.9352\n",
            "Epoch 9/100\n",
            "7352/7352 [==============================] - 0s 56us/step - loss: 0.1195 - accuracy: 0.9553 - val_loss: 0.1621 - val_accuracy: 0.9298\n",
            "Epoch 10/100\n",
            "7352/7352 [==============================] - 0s 57us/step - loss: 0.1146 - accuracy: 0.9565 - val_loss: 0.1368 - val_accuracy: 0.9474\n",
            "Epoch 11/100\n",
            "7352/7352 [==============================] - 0s 55us/step - loss: 0.1082 - accuracy: 0.9577 - val_loss: 0.1330 - val_accuracy: 0.9484\n",
            "Epoch 12/100\n",
            "7352/7352 [==============================] - 0s 56us/step - loss: 0.1007 - accuracy: 0.9644 - val_loss: 0.1464 - val_accuracy: 0.9430\n",
            "Epoch 13/100\n",
            "7352/7352 [==============================] - 0s 57us/step - loss: 0.1003 - accuracy: 0.9618 - val_loss: 0.1504 - val_accuracy: 0.9427\n",
            "Epoch 14/100\n",
            "7352/7352 [==============================] - 0s 59us/step - loss: 0.1026 - accuracy: 0.9604 - val_loss: 0.1268 - val_accuracy: 0.9498\n",
            "Epoch 15/100\n",
            "7352/7352 [==============================] - 0s 56us/step - loss: 0.0940 - accuracy: 0.9648 - val_loss: 0.1467 - val_accuracy: 0.9416\n",
            "Epoch 16/100\n",
            "7352/7352 [==============================] - 0s 56us/step - loss: 0.0903 - accuracy: 0.9652 - val_loss: 0.1415 - val_accuracy: 0.9444\n",
            "Epoch 17/100\n",
            "7352/7352 [==============================] - 0s 54us/step - loss: 0.0839 - accuracy: 0.9690 - val_loss: 0.1236 - val_accuracy: 0.9545\n",
            "Epoch 18/100\n",
            "7352/7352 [==============================] - 0s 57us/step - loss: 0.0760 - accuracy: 0.9735 - val_loss: 0.1368 - val_accuracy: 0.9498\n",
            "Epoch 19/100\n",
            "7352/7352 [==============================] - 0s 53us/step - loss: 0.0793 - accuracy: 0.9691 - val_loss: 0.1308 - val_accuracy: 0.9522\n",
            "Epoch 20/100\n",
            "7352/7352 [==============================] - 0s 55us/step - loss: 0.0749 - accuracy: 0.9697 - val_loss: 0.1275 - val_accuracy: 0.9542\n",
            "Epoch 21/100\n",
            "7352/7352 [==============================] - 0s 53us/step - loss: 0.0915 - accuracy: 0.9653 - val_loss: 0.1673 - val_accuracy: 0.9355\n",
            "Epoch 22/100\n",
            "7352/7352 [==============================] - 0s 53us/step - loss: 0.0825 - accuracy: 0.9682 - val_loss: 0.1430 - val_accuracy: 0.9494\n",
            "Epoch 23/100\n",
            "7352/7352 [==============================] - 0s 55us/step - loss: 0.0703 - accuracy: 0.9729 - val_loss: 0.1411 - val_accuracy: 0.9474\n",
            "Epoch 24/100\n",
            "7352/7352 [==============================] - 0s 53us/step - loss: 0.0680 - accuracy: 0.9750 - val_loss: 0.1291 - val_accuracy: 0.9542\n",
            "Epoch 25/100\n",
            "7352/7352 [==============================] - 0s 53us/step - loss: 0.0692 - accuracy: 0.9740 - val_loss: 0.1309 - val_accuracy: 0.9505\n",
            "Epoch 26/100\n",
            "7352/7352 [==============================] - 0s 51us/step - loss: 0.0681 - accuracy: 0.9743 - val_loss: 0.1331 - val_accuracy: 0.9545\n",
            "Epoch 27/100\n",
            "7352/7352 [==============================] - 0s 53us/step - loss: 0.0759 - accuracy: 0.9709 - val_loss: 0.1382 - val_accuracy: 0.9488\n",
            "Epoch 28/100\n",
            "7352/7352 [==============================] - 0s 57us/step - loss: 0.0721 - accuracy: 0.9733 - val_loss: 0.1506 - val_accuracy: 0.9471\n",
            "Epoch 29/100\n",
            "7352/7352 [==============================] - 0s 56us/step - loss: 0.0699 - accuracy: 0.9718 - val_loss: 0.1273 - val_accuracy: 0.9549\n",
            "Epoch 30/100\n",
            "7352/7352 [==============================] - 0s 56us/step - loss: 0.0634 - accuracy: 0.9762 - val_loss: 0.1407 - val_accuracy: 0.9511\n",
            "Epoch 31/100\n",
            "7352/7352 [==============================] - 0s 57us/step - loss: 0.0677 - accuracy: 0.9723 - val_loss: 0.1372 - val_accuracy: 0.9525\n",
            "Epoch 32/100\n",
            "7352/7352 [==============================] - 0s 55us/step - loss: 0.0704 - accuracy: 0.9729 - val_loss: 0.1197 - val_accuracy: 0.9566\n",
            "Epoch 33/100\n",
            "7352/7352 [==============================] - 0s 55us/step - loss: 0.0560 - accuracy: 0.9778 - val_loss: 0.1225 - val_accuracy: 0.9569\n",
            "Epoch 34/100\n",
            "7352/7352 [==============================] - 0s 55us/step - loss: 0.0600 - accuracy: 0.9770 - val_loss: 0.1360 - val_accuracy: 0.9569\n",
            "Epoch 35/100\n",
            "7352/7352 [==============================] - 0s 56us/step - loss: 0.0712 - accuracy: 0.9736 - val_loss: 0.1224 - val_accuracy: 0.9596\n",
            "Epoch 36/100\n",
            "7352/7352 [==============================] - 0s 55us/step - loss: 0.0649 - accuracy: 0.9746 - val_loss: 0.1612 - val_accuracy: 0.9477\n",
            "Epoch 37/100\n",
            "7352/7352 [==============================] - 0s 54us/step - loss: 0.0609 - accuracy: 0.9770 - val_loss: 0.1449 - val_accuracy: 0.9552\n",
            "Epoch 38/100\n",
            "7352/7352 [==============================] - 0s 55us/step - loss: 0.0634 - accuracy: 0.9742 - val_loss: 0.1538 - val_accuracy: 0.9501\n",
            "Epoch 39/100\n",
            "7352/7352 [==============================] - 0s 57us/step - loss: 0.0740 - accuracy: 0.9706 - val_loss: 0.1378 - val_accuracy: 0.9559\n",
            "Epoch 40/100\n",
            "7352/7352 [==============================] - 0s 53us/step - loss: 0.0731 - accuracy: 0.9705 - val_loss: 0.1219 - val_accuracy: 0.9586\n",
            "Epoch 41/100\n",
            "7352/7352 [==============================] - 0s 52us/step - loss: 0.0580 - accuracy: 0.9777 - val_loss: 0.1416 - val_accuracy: 0.9515\n",
            "Epoch 42/100\n",
            "7352/7352 [==============================] - 0s 52us/step - loss: 0.0637 - accuracy: 0.9755 - val_loss: 0.1557 - val_accuracy: 0.9508\n",
            "Epoch 43/100\n",
            "7352/7352 [==============================] - 0s 53us/step - loss: 0.0614 - accuracy: 0.9757 - val_loss: 0.1525 - val_accuracy: 0.9552\n",
            "Epoch 44/100\n",
            "7352/7352 [==============================] - 0s 52us/step - loss: 0.0560 - accuracy: 0.9771 - val_loss: 0.1383 - val_accuracy: 0.9596\n",
            "Epoch 45/100\n",
            "7352/7352 [==============================] - 0s 53us/step - loss: 0.0604 - accuracy: 0.9757 - val_loss: 0.1273 - val_accuracy: 0.9562\n",
            "Epoch 46/100\n",
            "7352/7352 [==============================] - 0s 54us/step - loss: 0.0561 - accuracy: 0.9776 - val_loss: 0.1351 - val_accuracy: 0.9559\n",
            "Epoch 47/100\n",
            "7352/7352 [==============================] - 0s 53us/step - loss: 0.0595 - accuracy: 0.9771 - val_loss: 0.1613 - val_accuracy: 0.9481\n",
            "Epoch 48/100\n",
            "7352/7352 [==============================] - 0s 53us/step - loss: 0.0624 - accuracy: 0.9742 - val_loss: 0.1737 - val_accuracy: 0.9477\n",
            "Epoch 49/100\n",
            "7352/7352 [==============================] - 0s 53us/step - loss: 0.0587 - accuracy: 0.9782 - val_loss: 0.1368 - val_accuracy: 0.9579\n",
            "Epoch 50/100\n",
            "7352/7352 [==============================] - 0s 53us/step - loss: 0.0616 - accuracy: 0.9763 - val_loss: 0.1889 - val_accuracy: 0.9386\n",
            "Epoch 51/100\n",
            "7352/7352 [==============================] - 0s 54us/step - loss: 0.0595 - accuracy: 0.9743 - val_loss: 0.1516 - val_accuracy: 0.9488\n",
            "Epoch 52/100\n",
            "7352/7352 [==============================] - 0s 53us/step - loss: 0.0593 - accuracy: 0.9773 - val_loss: 0.1352 - val_accuracy: 0.9562\n",
            "Epoch 53/100\n",
            "7352/7352 [==============================] - 0s 55us/step - loss: 0.0541 - accuracy: 0.9786 - val_loss: 0.1440 - val_accuracy: 0.9522\n",
            "Epoch 54/100\n",
            "7352/7352 [==============================] - 0s 52us/step - loss: 0.0644 - accuracy: 0.9737 - val_loss: 0.1295 - val_accuracy: 0.9542\n",
            "Epoch 55/100\n",
            "7352/7352 [==============================] - 0s 51us/step - loss: 0.0668 - accuracy: 0.9742 - val_loss: 0.1567 - val_accuracy: 0.9498\n",
            "Epoch 56/100\n",
            "7352/7352 [==============================] - 0s 52us/step - loss: 0.0636 - accuracy: 0.9754 - val_loss: 0.1494 - val_accuracy: 0.9528\n",
            "Epoch 57/100\n",
            "7352/7352 [==============================] - 0s 53us/step - loss: 0.0659 - accuracy: 0.9743 - val_loss: 0.1668 - val_accuracy: 0.9481\n",
            "Epoch 58/100\n",
            "7352/7352 [==============================] - 0s 53us/step - loss: 0.0575 - accuracy: 0.9785 - val_loss: 0.1621 - val_accuracy: 0.9467\n",
            "Epoch 59/100\n",
            "7352/7352 [==============================] - 0s 56us/step - loss: 0.0509 - accuracy: 0.9800 - val_loss: 0.1359 - val_accuracy: 0.9559\n",
            "Epoch 60/100\n",
            "7352/7352 [==============================] - 0s 53us/step - loss: 0.0522 - accuracy: 0.9803 - val_loss: 0.1470 - val_accuracy: 0.9559\n",
            "Epoch 61/100\n",
            "7352/7352 [==============================] - 0s 53us/step - loss: 0.0502 - accuracy: 0.9795 - val_loss: 0.1665 - val_accuracy: 0.9488\n",
            "Epoch 62/100\n",
            "7352/7352 [==============================] - 0s 51us/step - loss: 0.0530 - accuracy: 0.9804 - val_loss: 0.1339 - val_accuracy: 0.9569\n",
            "Epoch 63/100\n",
            "7352/7352 [==============================] - 0s 51us/step - loss: 0.0510 - accuracy: 0.9800 - val_loss: 0.1824 - val_accuracy: 0.9467\n",
            "Epoch 64/100\n",
            "7352/7352 [==============================] - 0s 52us/step - loss: 0.0489 - accuracy: 0.9803 - val_loss: 0.1604 - val_accuracy: 0.9566\n",
            "Epoch 65/100\n",
            "7352/7352 [==============================] - 0s 51us/step - loss: 0.0555 - accuracy: 0.9781 - val_loss: 0.1637 - val_accuracy: 0.9559\n",
            "Epoch 66/100\n",
            "7352/7352 [==============================] - 0s 50us/step - loss: 0.0561 - accuracy: 0.9761 - val_loss: 0.2074 - val_accuracy: 0.9457\n",
            "Epoch 67/100\n",
            "7352/7352 [==============================] - 0s 49us/step - loss: 0.0475 - accuracy: 0.9804 - val_loss: 0.1686 - val_accuracy: 0.9525\n",
            "Epoch 68/100\n",
            "7352/7352 [==============================] - 0s 50us/step - loss: 0.0508 - accuracy: 0.9810 - val_loss: 0.1473 - val_accuracy: 0.9572\n",
            "Epoch 69/100\n",
            "7352/7352 [==============================] - 0s 50us/step - loss: 0.0548 - accuracy: 0.9792 - val_loss: 0.2139 - val_accuracy: 0.9437\n",
            "Epoch 70/100\n",
            "7352/7352 [==============================] - 0s 49us/step - loss: 0.0506 - accuracy: 0.9805 - val_loss: 0.1943 - val_accuracy: 0.9532\n",
            "Epoch 71/100\n",
            "7352/7352 [==============================] - 0s 49us/step - loss: 0.0504 - accuracy: 0.9789 - val_loss: 0.1711 - val_accuracy: 0.9515\n",
            "Epoch 72/100\n",
            "7352/7352 [==============================] - 0s 50us/step - loss: 0.0491 - accuracy: 0.9807 - val_loss: 0.2261 - val_accuracy: 0.9345\n",
            "Epoch 73/100\n",
            "7352/7352 [==============================] - 0s 49us/step - loss: 0.0519 - accuracy: 0.9793 - val_loss: 0.1724 - val_accuracy: 0.9566\n",
            "Epoch 74/100\n",
            "7352/7352 [==============================] - 0s 50us/step - loss: 0.0520 - accuracy: 0.9804 - val_loss: 0.1479 - val_accuracy: 0.9552\n",
            "Epoch 75/100\n",
            "7352/7352 [==============================] - 0s 50us/step - loss: 0.0488 - accuracy: 0.9805 - val_loss: 0.1582 - val_accuracy: 0.9610\n",
            "Epoch 76/100\n",
            "7352/7352 [==============================] - 0s 50us/step - loss: 0.0446 - accuracy: 0.9795 - val_loss: 0.1849 - val_accuracy: 0.9528\n",
            "Epoch 77/100\n",
            "7352/7352 [==============================] - 0s 49us/step - loss: 0.0513 - accuracy: 0.9792 - val_loss: 0.1384 - val_accuracy: 0.9576\n",
            "Epoch 78/100\n",
            "7352/7352 [==============================] - 0s 54us/step - loss: 0.0518 - accuracy: 0.9777 - val_loss: 0.1802 - val_accuracy: 0.9525\n",
            "Epoch 79/100\n",
            "7352/7352 [==============================] - 0s 51us/step - loss: 0.0591 - accuracy: 0.9752 - val_loss: 0.1713 - val_accuracy: 0.9437\n",
            "Epoch 80/100\n",
            "7352/7352 [==============================] - 0s 51us/step - loss: 0.0592 - accuracy: 0.9748 - val_loss: 0.1523 - val_accuracy: 0.9559\n",
            "Epoch 81/100\n",
            "7352/7352 [==============================] - 0s 50us/step - loss: 0.0437 - accuracy: 0.9827 - val_loss: 0.1563 - val_accuracy: 0.9552\n",
            "Epoch 82/100\n",
            "7352/7352 [==============================] - 0s 50us/step - loss: 0.0500 - accuracy: 0.9799 - val_loss: 0.1895 - val_accuracy: 0.9542\n",
            "Epoch 83/100\n",
            "7352/7352 [==============================] - 0s 50us/step - loss: 0.0417 - accuracy: 0.9830 - val_loss: 0.2006 - val_accuracy: 0.9494\n",
            "Epoch 84/100\n",
            "7352/7352 [==============================] - 0s 50us/step - loss: 0.0489 - accuracy: 0.9818 - val_loss: 0.1758 - val_accuracy: 0.9545\n",
            "Epoch 85/100\n",
            "7352/7352 [==============================] - 0s 48us/step - loss: 0.0496 - accuracy: 0.9788 - val_loss: 0.1702 - val_accuracy: 0.9559\n",
            "Epoch 86/100\n",
            "7352/7352 [==============================] - 0s 53us/step - loss: 0.0533 - accuracy: 0.9788 - val_loss: 0.1653 - val_accuracy: 0.9562\n",
            "Epoch 87/100\n",
            "7352/7352 [==============================] - 0s 51us/step - loss: 0.0539 - accuracy: 0.9776 - val_loss: 0.2092 - val_accuracy: 0.9413\n",
            "Epoch 88/100\n",
            "7352/7352 [==============================] - 0s 49us/step - loss: 0.0530 - accuracy: 0.9781 - val_loss: 0.2220 - val_accuracy: 0.9454\n",
            "Epoch 89/100\n",
            "7352/7352 [==============================] - 0s 49us/step - loss: 0.0500 - accuracy: 0.9796 - val_loss: 0.2111 - val_accuracy: 0.9433\n",
            "Epoch 90/100\n",
            "7352/7352 [==============================] - 0s 51us/step - loss: 0.0434 - accuracy: 0.9831 - val_loss: 0.1982 - val_accuracy: 0.9457\n",
            "Epoch 91/100\n",
            "7352/7352 [==============================] - 0s 50us/step - loss: 0.0494 - accuracy: 0.9792 - val_loss: 0.1601 - val_accuracy: 0.9545\n",
            "Epoch 92/100\n",
            "7352/7352 [==============================] - 0s 49us/step - loss: 0.0599 - accuracy: 0.9773 - val_loss: 0.2051 - val_accuracy: 0.9420\n",
            "Epoch 93/100\n",
            "7352/7352 [==============================] - 0s 50us/step - loss: 0.0559 - accuracy: 0.9784 - val_loss: 0.1691 - val_accuracy: 0.9589\n",
            "Epoch 94/100\n",
            "7352/7352 [==============================] - 0s 49us/step - loss: 0.0583 - accuracy: 0.9774 - val_loss: 0.1604 - val_accuracy: 0.9576\n",
            "Epoch 95/100\n",
            "7352/7352 [==============================] - 0s 53us/step - loss: 0.0559 - accuracy: 0.9774 - val_loss: 0.1542 - val_accuracy: 0.9576\n",
            "Epoch 96/100\n",
            "7352/7352 [==============================] - 0s 51us/step - loss: 0.0616 - accuracy: 0.9766 - val_loss: 0.1409 - val_accuracy: 0.9637\n",
            "Epoch 97/100\n",
            "7352/7352 [==============================] - 0s 55us/step - loss: 0.0503 - accuracy: 0.9799 - val_loss: 0.1640 - val_accuracy: 0.9593\n",
            "Epoch 98/100\n",
            "7352/7352 [==============================] - 0s 49us/step - loss: 0.0449 - accuracy: 0.9803 - val_loss: 0.1689 - val_accuracy: 0.9555\n",
            "Epoch 99/100\n",
            "7352/7352 [==============================] - 0s 49us/step - loss: 0.0471 - accuracy: 0.9810 - val_loss: 0.1711 - val_accuracy: 0.9555\n",
            "Epoch 100/100\n",
            "7352/7352 [==============================] - 0s 49us/step - loss: 0.0532 - accuracy: 0.9795 - val_loss: 0.1763 - val_accuracy: 0.9501\n"
          ],
          "name": "stdout"
        },
        {
          "output_type": "execute_result",
          "data": {
            "text/plain": [
              "<keras.callbacks.callbacks.History at 0x7f123cc2f5c0>"
            ]
          },
          "metadata": {
            "tags": []
          },
          "execution_count": 15
        }
      ]
    },
    {
      "cell_type": "code",
      "metadata": {
        "id": "s53mf2HOM8el",
        "colab_type": "code",
        "colab": {}
      },
      "source": [
        "# Function for calculating the Confusion Matrix\n",
        "ACTIVITIES = {\n",
        "    0: 'WALKING',\n",
        "    1: 'WALKING_UPSTAIRS',\n",
        "    2: 'WALKING_DOWNSTAIRS',\n",
        "    3: 'SITTING',\n",
        "    4: 'STANDING',\n",
        "    5: 'LAYING',\n",
        "}\n",
        "\n",
        "# Utility function to print the confusion matrix\n",
        "def confusion_matrix(Y_true, Y_pred):\n",
        "    Y_true = pd.Series([ACTIVITIES[y] for y in np.argmax(Y_true, axis=1)])\n",
        "    Y_pred = pd.Series([ACTIVITIES[y] for y in np.argmax(Y_pred, axis=1)])\n",
        "\n",
        "    return pd.crosstab(Y_true, Y_pred, rownames=['True'], colnames=['Pred'])"
      ],
      "execution_count": 0,
      "outputs": []
    },
    {
      "cell_type": "code",
      "metadata": {
        "id": "ObrmP-27ocpr",
        "colab_type": "code",
        "colab": {
          "base_uri": "https://localhost:8080/",
          "height": 266
        },
        "outputId": "46c8db0f-51d3-4328-c7f3-bb9b396970ca"
      },
      "source": [
        "# Confusion Matrix\n",
        "confusion_matrix(y_test_en, model.predict(X_test_np))"
      ],
      "execution_count": 18,
      "outputs": [
        {
          "output_type": "execute_result",
          "data": {
            "text/html": [
              "<div>\n",
              "<style scoped>\n",
              "    .dataframe tbody tr th:only-of-type {\n",
              "        vertical-align: middle;\n",
              "    }\n",
              "\n",
              "    .dataframe tbody tr th {\n",
              "        vertical-align: top;\n",
              "    }\n",
              "\n",
              "    .dataframe thead th {\n",
              "        text-align: right;\n",
              "    }\n",
              "</style>\n",
              "<table border=\"1\" class=\"dataframe\">\n",
              "  <thead>\n",
              "    <tr style=\"text-align: right;\">\n",
              "      <th>Pred</th>\n",
              "      <th>LAYING</th>\n",
              "      <th>SITTING</th>\n",
              "      <th>STANDING</th>\n",
              "      <th>WALKING</th>\n",
              "      <th>WALKING_DOWNSTAIRS</th>\n",
              "      <th>WALKING_UPSTAIRS</th>\n",
              "    </tr>\n",
              "    <tr>\n",
              "      <th>True</th>\n",
              "      <th></th>\n",
              "      <th></th>\n",
              "      <th></th>\n",
              "      <th></th>\n",
              "      <th></th>\n",
              "      <th></th>\n",
              "    </tr>\n",
              "  </thead>\n",
              "  <tbody>\n",
              "    <tr>\n",
              "      <th>LAYING</th>\n",
              "      <td>537</td>\n",
              "      <td>0</td>\n",
              "      <td>0</td>\n",
              "      <td>0</td>\n",
              "      <td>0</td>\n",
              "      <td>0</td>\n",
              "    </tr>\n",
              "    <tr>\n",
              "      <th>SITTING</th>\n",
              "      <td>0</td>\n",
              "      <td>452</td>\n",
              "      <td>37</td>\n",
              "      <td>0</td>\n",
              "      <td>0</td>\n",
              "      <td>2</td>\n",
              "    </tr>\n",
              "    <tr>\n",
              "      <th>STANDING</th>\n",
              "      <td>0</td>\n",
              "      <td>40</td>\n",
              "      <td>491</td>\n",
              "      <td>1</td>\n",
              "      <td>0</td>\n",
              "      <td>0</td>\n",
              "    </tr>\n",
              "    <tr>\n",
              "      <th>WALKING</th>\n",
              "      <td>0</td>\n",
              "      <td>0</td>\n",
              "      <td>0</td>\n",
              "      <td>494</td>\n",
              "      <td>2</td>\n",
              "      <td>0</td>\n",
              "    </tr>\n",
              "    <tr>\n",
              "      <th>WALKING_DOWNSTAIRS</th>\n",
              "      <td>0</td>\n",
              "      <td>0</td>\n",
              "      <td>0</td>\n",
              "      <td>11</td>\n",
              "      <td>395</td>\n",
              "      <td>14</td>\n",
              "    </tr>\n",
              "    <tr>\n",
              "      <th>WALKING_UPSTAIRS</th>\n",
              "      <td>0</td>\n",
              "      <td>0</td>\n",
              "      <td>0</td>\n",
              "      <td>37</td>\n",
              "      <td>3</td>\n",
              "      <td>431</td>\n",
              "    </tr>\n",
              "  </tbody>\n",
              "</table>\n",
              "</div>"
            ],
            "text/plain": [
              "Pred                LAYING  SITTING  ...  WALKING_DOWNSTAIRS  WALKING_UPSTAIRS\n",
              "True                                 ...                                      \n",
              "LAYING                 537        0  ...                   0                 0\n",
              "SITTING                  0      452  ...                   0                 2\n",
              "STANDING                 0       40  ...                   0                 0\n",
              "WALKING                  0        0  ...                   2                 0\n",
              "WALKING_DOWNSTAIRS       0        0  ...                 395                14\n",
              "WALKING_UPSTAIRS         0        0  ...                   3               431\n",
              "\n",
              "[6 rows x 6 columns]"
            ]
          },
          "metadata": {
            "tags": []
          },
          "execution_count": 18
        }
      ]
    },
    {
      "cell_type": "code",
      "metadata": {
        "id": "ByQmAgKGeezp",
        "colab_type": "code",
        "colab": {
          "base_uri": "https://localhost:8080/",
          "height": 51
        },
        "outputId": "fd868c8d-90eb-4dff-e144-c6bd9247b822"
      },
      "source": [
        "score = model.evaluate(X_test_np, y_test_en)\n",
        "print(score)"
      ],
      "execution_count": 20,
      "outputs": [
        {
          "output_type": "stream",
          "text": [
            "2947/2947 [==============================] - 0s 26us/step\n",
            "[0.17629853113047775, 0.9501187801361084]\n"
          ],
          "name": "stdout"
        }
      ]
    },
    {
      "cell_type": "code",
      "metadata": {
        "id": "jvgoGdcOfny9",
        "colab_type": "code",
        "colab": {}
      },
      "source": [
        ""
      ],
      "execution_count": 0,
      "outputs": []
    }
  ]
}